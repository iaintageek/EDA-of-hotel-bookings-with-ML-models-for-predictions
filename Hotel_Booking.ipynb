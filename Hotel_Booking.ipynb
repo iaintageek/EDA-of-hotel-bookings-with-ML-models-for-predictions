{
  "nbformat": 4,
  "nbformat_minor": 0,
  "metadata": {
    "colab": {
      "name": "Hotel_Booking.ipynb",
      "provenance": [],
      "collapsed_sections": [],
      "machine_shape": "hm"
    },
    "kernelspec": {
      "name": "python3",
      "display_name": "Python 3"
    }
  },
  "cells": [
    {
      "cell_type": "markdown",
      "metadata": {
        "id": "XjWG7vhFOB35",
        "colab_type": "text"
      },
      "source": [
        "EDA\n",
        "\n",
        "1.   Do customers with children/babies tend to cancel more ?\n",
        "2.   Customers booking through which distribution channel cancel the most ?\n",
        "3.   Among the repeated guests, what is the likeliness of cancellation ?\n",
        "4.   Country wise cancellation and menu preferences stats \n",
        "5.   Cancellation trends of both the hotel types "
      ]
    },
    {
      "cell_type": "code",
      "metadata": {
        "id": "RE5dmTVdHEG9",
        "colab_type": "code",
        "colab": {}
      },
      "source": [
        "import pandas as pd\n",
        "import numpy as np\n",
        "import matplotlib.pyplot as plt\n",
        "import seaborn as sns"
      ],
      "execution_count": null,
      "outputs": []
    },
    {
      "cell_type": "code",
      "metadata": {
        "id": "6tq3s7GVHJ8y",
        "colab_type": "code",
        "colab": {}
      },
      "source": [
        "dataset=pd.read_csv('hotel_bookings.csv')\n",
        "x=dataset.iloc[:,[0,2,4,7,8,9,10,11,14,15,16,17,18,21,22,25,26,27,28,29]].values\n",
        "y=dataset.iloc[:,1].values\n",
        "z=dataset.iloc[:,[19,20]]  #z will remain a DataFrame that contains the room_assigned and room_booked columns only"
      ],
      "execution_count": null,
      "outputs": []
    },
    {
      "cell_type": "code",
      "metadata": {
        "id": "jCW5q7nHXIT5",
        "colab_type": "code",
        "colab": {
          "base_uri": "https://localhost:8080/",
          "height": 571
        },
        "outputId": "dd1ee3a6-b688-4bdf-b048-41e95d7f7aa5"
      },
      "source": [
        "df= pd.DataFrame(dataset)\n",
        "df.isnull().sum()"
      ],
      "execution_count": null,
      "outputs": [
        {
          "output_type": "execute_result",
          "data": {
            "text/plain": [
              "hotel                                  0\n",
              "is_canceled                            0\n",
              "lead_time                              0\n",
              "arrival_date_year                      0\n",
              "arrival_date_month                     0\n",
              "arrival_date_week_number               0\n",
              "arrival_date_day_of_month              0\n",
              "stays_in_weekend_nights                0\n",
              "stays_in_week_nights                   0\n",
              "adults                                 0\n",
              "children                               4\n",
              "babies                                 0\n",
              "meal                                   0\n",
              "country                              488\n",
              "market_segment                         0\n",
              "distribution_channel                   0\n",
              "is_repeated_guest                      0\n",
              "previous_cancellations                 0\n",
              "previous_bookings_not_canceled         0\n",
              "reserved_room_type                     0\n",
              "assigned_room_type                     0\n",
              "booking_changes                        0\n",
              "deposit_type                           0\n",
              "agent                              16340\n",
              "company                           112593\n",
              "days_in_waiting_list                   0\n",
              "customer_type                          0\n",
              "adr                                    0\n",
              "required_car_parking_spaces            0\n",
              "total_of_special_requests              0\n",
              "reservation_status                     0\n",
              "reservation_status_date                0\n",
              "dtype: int64"
            ]
          },
          "metadata": {
            "tags": []
          },
          "execution_count": 60
        }
      ]
    },
    {
      "cell_type": "code",
      "metadata": {
        "id": "Bp5BexTjOA44",
        "colab_type": "code",
        "colab": {
          "base_uri": "https://localhost:8080/",
          "height": 571
        },
        "outputId": "d7fb6981-ac1d-45bb-a923-938ad0f87dab"
      },
      "source": [
        "values={'children':0,'country':'Unknown','company':'unknown','agent':'unknown'}\n",
        "df=df.fillna(value=values)\n",
        "df.isnull().sum()"
      ],
      "execution_count": null,
      "outputs": [
        {
          "output_type": "execute_result",
          "data": {
            "text/plain": [
              "hotel                             0\n",
              "is_canceled                       0\n",
              "lead_time                         0\n",
              "arrival_date_year                 0\n",
              "arrival_date_month                0\n",
              "arrival_date_week_number          0\n",
              "arrival_date_day_of_month         0\n",
              "stays_in_weekend_nights           0\n",
              "stays_in_week_nights              0\n",
              "adults                            0\n",
              "children                          0\n",
              "babies                            0\n",
              "meal                              0\n",
              "country                           0\n",
              "market_segment                    0\n",
              "distribution_channel              0\n",
              "is_repeated_guest                 0\n",
              "previous_cancellations            0\n",
              "previous_bookings_not_canceled    0\n",
              "reserved_room_type                0\n",
              "assigned_room_type                0\n",
              "booking_changes                   0\n",
              "deposit_type                      0\n",
              "agent                             0\n",
              "company                           0\n",
              "days_in_waiting_list              0\n",
              "customer_type                     0\n",
              "adr                               0\n",
              "required_car_parking_spaces       0\n",
              "total_of_special_requests         0\n",
              "reservation_status                0\n",
              "reservation_status_date           0\n",
              "dtype: int64"
            ]
          },
          "metadata": {
            "tags": []
          },
          "execution_count": 61
        }
      ]
    },
    {
      "cell_type": "markdown",
      "metadata": {
        "id": "fUAvN2yRHmKE",
        "colab_type": "text"
      },
      "source": [
        " Do customers with children/babies tend to cancel more ?"
      ]
    },
    {
      "cell_type": "code",
      "metadata": {
        "id": "tLiAOlsRPhNY",
        "colab_type": "code",
        "colab": {
          "base_uri": "https://localhost:8080/",
          "height": 101
        },
        "outputId": "ed9cc9a6-dedc-4c4d-ca01-2544a5aeedc7"
      },
      "source": [
        "print(\"The corelation between babies/children and is_canceled:\\n\",df.corr()[\"is_canceled\"][[\"children\",\"babies\"]])\n",
        "df1= df[['children','babies','is_canceled']]\n",
        "cancel_children = list(df1.loc[(df1[\"children\"]+df1[\"babies\"]!=0) & df[\"is_canceled\"]==1].index)\n",
        "percent=float(round(len(cancel_children)/len(dataset)*100,2))\n",
        "print(\"The percentage of customers who had children/babies and cancelled bookings: \",percent)"
      ],
      "execution_count": null,
      "outputs": [
        {
          "output_type": "stream",
          "text": [
            "The corelation between babies/children and is_canceled:\n",
            " children    0.005036\n",
            "babies     -0.032491\n",
            "Name: is_canceled, dtype: float64\n",
            "The percentage of customers who had children/babies and cancelled bookings:  2.73\n"
          ],
          "name": "stdout"
        }
      ]
    },
    {
      "cell_type": "markdown",
      "metadata": {
        "id": "mZK2hYN-Htss",
        "colab_type": "text"
      },
      "source": [
        "Customers booking through which agency cancel the most ?"
      ]
    },
    {
      "cell_type": "code",
      "metadata": {
        "id": "9-kcxn-QHibV",
        "colab_type": "code",
        "colab": {}
      },
      "source": [
        "distribution_cancel =df[[\"distribution_channel\",\"is_canceled\"]]\n",
        "distribution_cancel =distribution_cancel[distribution_cancel[\"is_canceled\"]==1]\n",
        "distribution_cancel.groupby(\"distribution_channel\")[\"is_canceled\"].value_counts().sort_values(ascending=False)"
      ],
      "execution_count": null,
      "outputs": []
    },
    {
      "cell_type": "code",
      "metadata": {
        "id": "kxuz3WoSkDVt",
        "colab_type": "code",
        "colab": {}
      },
      "source": [
        "sns.swarmplot(x=df1['is_canceled'],y=df1['children'])"
      ],
      "execution_count": null,
      "outputs": []
    },
    {
      "cell_type": "markdown",
      "metadata": {
        "id": "vim-qLNnP3pm",
        "colab_type": "text"
      },
      "source": [
        "Among the repeated guests, what is the likeliness of cancellation ?"
      ]
    },
    {
      "cell_type": "code",
      "metadata": {
        "id": "2_tEplbFP2tZ",
        "colab_type": "code",
        "colab": {
          "base_uri": "https://localhost:8080/",
          "height": 34
        },
        "outputId": "08b3e76f-dfd5-420e-db86-64584d7ab8de"
      },
      "source": [
        "repeated_guest =df[[\"is_repeated_guest\",\"is_canceled\"]]\n",
        "count_values=pd.DataFrame(repeated_guest.groupby(\"is_repeated_guest\")[\"is_canceled\"].value_counts().sort_values(ascending=False))\n",
        "percent = float(round(count_values.iloc[3]/(count_values.iloc[2]+count_values.iloc[3])*100,2))\n",
        "print(\"Percentage of repeated guests who tend to cancel:\",percent)"
      ],
      "execution_count": null,
      "outputs": [
        {
          "output_type": "stream",
          "text": [
            "Percentage of repeated guests who tend to cancel: 14.49\n"
          ],
          "name": "stdout"
        }
      ]
    },
    {
      "cell_type": "markdown",
      "metadata": {
        "id": "wyiwhBQ8bLld",
        "colab_type": "text"
      },
      "source": [
        "Country wise cancellation and menu preferences stats"
      ]
    },
    {
      "cell_type": "code",
      "metadata": {
        "id": "qA9ZGpbCU1Mx",
        "colab_type": "code",
        "colab": {
          "base_uri": "https://localhost:8080/",
          "height": 343
        },
        "outputId": "f8073a64-f632-419c-a34a-986fd0c2744d"
      },
      "source": [
        "country_total_bookings=pd.DataFrame(df[\"country\"].value_counts(),index=None)\n",
        "country_total_bookings.rename(columns={\"country\": \"Number of Guests\"}, inplace=True)\n",
        "country_Canceled_bookings=pd.DataFrame(df.loc[df[\"is_canceled\"] == 1][\"country\"].value_counts())\n",
        "country_Canceled_bookings.rename(columns={\"country\": \"Number of cancelled Guests\"}, inplace=True)\n",
        "final=pd.merge(country_total_bookings,country_Canceled_bookings,how=\"outer\",left_index=True, right_index=True)\n",
        "final[\"Percentage of cancellations\"]=(round(final[\"Number of cancelled Guests\"]/final[\"Number of Guests\"]*100,2))\n",
        "countries=list(final.sort_values(by=[\"Number of Guests\"],ascending=False).head(n=10).index)\n",
        "top10=final.sort_values(by=[\"Number of Guests\"],ascending=False).head(n=10)\n",
        "top10"
      ],
      "execution_count": null,
      "outputs": [
        {
          "output_type": "execute_result",
          "data": {
            "text/html": [
              "<div>\n",
              "<style scoped>\n",
              "    .dataframe tbody tr th:only-of-type {\n",
              "        vertical-align: middle;\n",
              "    }\n",
              "\n",
              "    .dataframe tbody tr th {\n",
              "        vertical-align: top;\n",
              "    }\n",
              "\n",
              "    .dataframe thead th {\n",
              "        text-align: right;\n",
              "    }\n",
              "</style>\n",
              "<table border=\"1\" class=\"dataframe\">\n",
              "  <thead>\n",
              "    <tr style=\"text-align: right;\">\n",
              "      <th></th>\n",
              "      <th>Number of Guests</th>\n",
              "      <th>Number of cancelled Guests</th>\n",
              "      <th>Percentage of cancellations</th>\n",
              "    </tr>\n",
              "  </thead>\n",
              "  <tbody>\n",
              "    <tr>\n",
              "      <th>PRT</th>\n",
              "      <td>48590</td>\n",
              "      <td>27519.0</td>\n",
              "      <td>56.64</td>\n",
              "    </tr>\n",
              "    <tr>\n",
              "      <th>GBR</th>\n",
              "      <td>12129</td>\n",
              "      <td>2453.0</td>\n",
              "      <td>20.22</td>\n",
              "    </tr>\n",
              "    <tr>\n",
              "      <th>FRA</th>\n",
              "      <td>10415</td>\n",
              "      <td>1934.0</td>\n",
              "      <td>18.57</td>\n",
              "    </tr>\n",
              "    <tr>\n",
              "      <th>ESP</th>\n",
              "      <td>8568</td>\n",
              "      <td>2177.0</td>\n",
              "      <td>25.41</td>\n",
              "    </tr>\n",
              "    <tr>\n",
              "      <th>DEU</th>\n",
              "      <td>7287</td>\n",
              "      <td>1218.0</td>\n",
              "      <td>16.71</td>\n",
              "    </tr>\n",
              "    <tr>\n",
              "      <th>ITA</th>\n",
              "      <td>3766</td>\n",
              "      <td>1333.0</td>\n",
              "      <td>35.40</td>\n",
              "    </tr>\n",
              "    <tr>\n",
              "      <th>IRL</th>\n",
              "      <td>3375</td>\n",
              "      <td>832.0</td>\n",
              "      <td>24.65</td>\n",
              "    </tr>\n",
              "    <tr>\n",
              "      <th>BEL</th>\n",
              "      <td>2342</td>\n",
              "      <td>474.0</td>\n",
              "      <td>20.24</td>\n",
              "    </tr>\n",
              "    <tr>\n",
              "      <th>BRA</th>\n",
              "      <td>2224</td>\n",
              "      <td>830.0</td>\n",
              "      <td>37.32</td>\n",
              "    </tr>\n",
              "    <tr>\n",
              "      <th>NLD</th>\n",
              "      <td>2104</td>\n",
              "      <td>387.0</td>\n",
              "      <td>18.39</td>\n",
              "    </tr>\n",
              "  </tbody>\n",
              "</table>\n",
              "</div>"
            ],
            "text/plain": [
              "     Number of Guests  Number of cancelled Guests  Percentage of cancellations\n",
              "PRT             48590                     27519.0                        56.64\n",
              "GBR             12129                      2453.0                        20.22\n",
              "FRA             10415                      1934.0                        18.57\n",
              "ESP              8568                      2177.0                        25.41\n",
              "DEU              7287                      1218.0                        16.71\n",
              "ITA              3766                      1333.0                        35.40\n",
              "IRL              3375                       832.0                        24.65\n",
              "BEL              2342                       474.0                        20.24\n",
              "BRA              2224                       830.0                        37.32\n",
              "NLD              2104                       387.0                        18.39"
            ]
          },
          "metadata": {
            "tags": []
          },
          "execution_count": 20
        }
      ]
    },
    {
      "cell_type": "code",
      "metadata": {
        "id": "DSj7xml5xLHH",
        "colab_type": "code",
        "colab": {}
      },
      "source": [
        "top10.drop_index"
      ],
      "execution_count": null,
      "outputs": []
    },
    {
      "cell_type": "code",
      "metadata": {
        "id": "fz2ZOJX-oRdX",
        "colab_type": "code",
        "colab": {
          "base_uri": "https://localhost:8080/",
          "height": 347
        },
        "outputId": "4458b6fd-56b4-418c-b21e-23904403b928"
      },
      "source": [
        "plt.figure(figsize=(20,5))\n",
        "plt.title(\"Top 10 countries that has maximum number of guests\")\n",
        "plt.xlabel(\"Country\")\n",
        "plt.ylabel(\"Number of Guests\")\n",
        "sns.barplot(x=top10.index,y=top10['Number of Guests'],color='green')"
      ],
      "execution_count": null,
      "outputs": [
        {
          "output_type": "execute_result",
          "data": {
            "text/plain": [
              "<matplotlib.axes._subplots.AxesSubplot at 0x7f5f99fb7e10>"
            ]
          },
          "metadata": {
            "tags": []
          },
          "execution_count": 30
        },
        {
          "output_type": "display_data",
          "data": {
            "image/png": "[encoded data removed]",
            "text/plain": [
              "<Figure size 1440x360 with 1 Axes>"
            ]
          },
          "metadata": {
            "tags": [],
            "needs_background": "light"
          }
        }
      ]
    },
    {
      "cell_type": "markdown",
      "metadata": {
        "id": "BFDSuzP0qWqR",
        "colab_type": "text"
      },
      "source": [
        ""
      ]
    },
    {
      "cell_type": "code",
      "metadata": {
        "id": "Yh39P-DDkQya",
        "colab_type": "code",
        "colab": {
          "base_uri": "https://localhost:8080/",
          "height": 857
        },
        "outputId": "d5dd0de0-f2c1-4c77-ba3b-e387dc1bc756"
      },
      "source": [
        "df3=df.groupby([\"country\"])[\"meal\"].value_counts()\n",
        "df3[countries]"
      ],
      "execution_count": null,
      "outputs": [
        {
          "output_type": "execute_result",
          "data": {
            "text/plain": [
              "country  meal     \n",
              "BEL      BB            1882\n",
              "         SC             248\n",
              "         HB             210\n",
              "         FB               1\n",
              "         Undefined        1\n",
              "BRA      BB            1743\n",
              "         SC             414\n",
              "         HB              64\n",
              "         Undefined        2\n",
              "         FB               1\n",
              "DEU      BB            4702\n",
              "         HB            1786\n",
              "         SC             797\n",
              "         FB               1\n",
              "         Undefined        1\n",
              "ESP      BB            5939\n",
              "         HB            1438\n",
              "         SC             751\n",
              "         Undefined      297\n",
              "         FB             143\n",
              "FRA      BB            8009\n",
              "         SC            1304\n",
              "         HB            1006\n",
              "         Undefined       91\n",
              "         FB               5\n",
              "GBR      BB            9038\n",
              "         HB            1612\n",
              "         SC            1434\n",
              "         FB              25\n",
              "         Undefined       20\n",
              "IRL      BB            2779\n",
              "         SC             381\n",
              "         HB             212\n",
              "         FB               2\n",
              "         Undefined        1\n",
              "ITA      BB            2456\n",
              "         HB             734\n",
              "         SC             572\n",
              "         Undefined        3\n",
              "         FB               1\n",
              "NLD      BB            1720\n",
              "         SC             316\n",
              "         HB              68\n",
              "PRT      BB           39556\n",
              "         HB            6167\n",
              "         SC            1564\n",
              "         Undefined      699\n",
              "         FB             604\n",
              "Name: meal, dtype: int64"
            ]
          },
          "metadata": {
            "tags": []
          },
          "execution_count": 10
        }
      ]
    },
    {
      "cell_type": "markdown",
      "metadata": {
        "id": "2XxRruHptCRZ",
        "colab_type": "text"
      },
      "source": [
        "Cancellation trends of both the hotel types"
      ]
    },
    {
      "cell_type": "code",
      "metadata": {
        "id": "c5Frsq1ntAsx",
        "colab_type": "code",
        "colab": {
          "base_uri": "https://localhost:8080/",
          "height": 50
        },
        "outputId": "9eba5d78-9b77-43b1-c7ad-095427fa3573"
      },
      "source": [
        "rh=df[df[\"hotel\"]==\"Resort Hotel\"]\n",
        "ch=df[df[\"hotel\"]==\"City Hotel\"]\n",
        "\n",
        "rh_canceled=rh[\"is_canceled\"].sum()\n",
        "ch_canceled=ch[\"is_canceled\"].sum()\n",
        "p1=float(round(rh_canceled/len(rh)*100,2))\n",
        "p2=float(round(ch_canceled/len(ch)*100,2))\n",
        "print(\"Percentage of customers canceling Resort Hotels :\",p1)\n",
        "print(\"Percentage of customers canceling City Hotels   :\",p2)\n",
        "\n",
        "rh_max =rh[\"arrival_date_month\"].sum()"
      ],
      "execution_count": null,
      "outputs": [
        {
          "output_type": "stream",
          "text": [
            "Percentage of customers canceling Resort Hotels : 27.76\n",
            "Percentage of customers canceling City Hotels   : 41.73\n"
          ],
          "name": "stdout"
        }
      ]
    },
    {
      "cell_type": "code",
      "metadata": {
        "id": "3BGjRds3iOoa",
        "colab_type": "code",
        "colab": {
          "base_uri": "https://localhost:8080/",
          "height": 432
        },
        "outputId": "5c09b269-33c8-4331-b349-082b429c5ad7"
      },
      "source": [
        "rh_max =pd.DataFrame(rh.groupby(\"arrival_date_month\").count())\n",
        "rh_max=rh_max[\"hotel\"]\n",
        "ch_max =pd.DataFrame(ch.groupby(\"arrival_date_month\").count())\n",
        "ch_max=ch_max[\"hotel\"]\n",
        "final=pd.merge(rh_max,ch_max,how=\"outer\",left_index=True, right_index=True)\n",
        "final.rename(columns={\"hotel_x\":\"RH_bookings\",\n",
        "              \"hotel_y\":\"Ch_bookings\"},inplace=True)\n",
        "final = final.loc[[\"January\", \"February\", \"March\", \"April\", \"May\", \"June\", \n",
        "          \"July\", \"August\", \"September\", \"October\", \"November\", \"December\"], :]\n",
        "final"
      ],
      "execution_count": null,
      "outputs": [
        {
          "output_type": "execute_result",
          "data": {
            "text/html": [
              "<div>\n",
              "<style scoped>\n",
              "    .dataframe tbody tr th:only-of-type {\n",
              "        vertical-align: middle;\n",
              "    }\n",
              "\n",
              "    .dataframe tbody tr th {\n",
              "        vertical-align: top;\n",
              "    }\n",
              "\n",
              "    .dataframe thead th {\n",
              "        text-align: right;\n",
              "    }\n",
              "</style>\n",
              "<table border=\"1\" class=\"dataframe\">\n",
              "  <thead>\n",
              "    <tr style=\"text-align: right;\">\n",
              "      <th></th>\n",
              "      <th>RH_bookings</th>\n",
              "      <th>Ch_bookings</th>\n",
              "    </tr>\n",
              "    <tr>\n",
              "      <th>arrival_date_month</th>\n",
              "      <th></th>\n",
              "      <th></th>\n",
              "    </tr>\n",
              "  </thead>\n",
              "  <tbody>\n",
              "    <tr>\n",
              "      <th>January</th>\n",
              "      <td>2193</td>\n",
              "      <td>3736</td>\n",
              "    </tr>\n",
              "    <tr>\n",
              "      <th>February</th>\n",
              "      <td>3103</td>\n",
              "      <td>4965</td>\n",
              "    </tr>\n",
              "    <tr>\n",
              "      <th>March</th>\n",
              "      <td>3336</td>\n",
              "      <td>6458</td>\n",
              "    </tr>\n",
              "    <tr>\n",
              "      <th>April</th>\n",
              "      <td>3609</td>\n",
              "      <td>7480</td>\n",
              "    </tr>\n",
              "    <tr>\n",
              "      <th>May</th>\n",
              "      <td>3559</td>\n",
              "      <td>8232</td>\n",
              "    </tr>\n",
              "    <tr>\n",
              "      <th>June</th>\n",
              "      <td>3045</td>\n",
              "      <td>7894</td>\n",
              "    </tr>\n",
              "    <tr>\n",
              "      <th>July</th>\n",
              "      <td>4573</td>\n",
              "      <td>8088</td>\n",
              "    </tr>\n",
              "    <tr>\n",
              "      <th>August</th>\n",
              "      <td>4894</td>\n",
              "      <td>8983</td>\n",
              "    </tr>\n",
              "    <tr>\n",
              "      <th>September</th>\n",
              "      <td>3108</td>\n",
              "      <td>7400</td>\n",
              "    </tr>\n",
              "    <tr>\n",
              "      <th>October</th>\n",
              "      <td>3555</td>\n",
              "      <td>7605</td>\n",
              "    </tr>\n",
              "    <tr>\n",
              "      <th>November</th>\n",
              "      <td>2437</td>\n",
              "      <td>4357</td>\n",
              "    </tr>\n",
              "    <tr>\n",
              "      <th>December</th>\n",
              "      <td>2648</td>\n",
              "      <td>4132</td>\n",
              "    </tr>\n",
              "  </tbody>\n",
              "</table>\n",
              "</div>"
            ],
            "text/plain": [
              "                    RH_bookings  Ch_bookings\n",
              "arrival_date_month                          \n",
              "January                    2193         3736\n",
              "February                   3103         4965\n",
              "March                      3336         6458\n",
              "April                      3609         7480\n",
              "May                        3559         8232\n",
              "June                       3045         7894\n",
              "July                       4573         8088\n",
              "August                     4894         8983\n",
              "September                  3108         7400\n",
              "October                    3555         7605\n",
              "November                   2437         4357\n",
              "December                   2648         4132"
            ]
          },
          "metadata": {
            "tags": []
          },
          "execution_count": 54
        }
      ]
    },
    {
      "cell_type": "code",
      "metadata": {
        "id": "0axMl_j_lIlb",
        "colab_type": "code",
        "colab": {
          "base_uri": "https://localhost:8080/",
          "height": 432
        },
        "outputId": "3f55fb0e-fa01-4b1a-8a65-469bc9770e63"
      },
      "source": [
        "final = final.loc[[\"January\", \"February\", \"March\", \"April\", \"May\", \"June\", \n",
        "          \"July\", \"August\", \"September\", \"October\", \"November\", \"December\"], :]\n",
        "final"
      ],
      "execution_count": null,
      "outputs": [
        {
          "output_type": "execute_result",
          "data": {
            "text/html": [
              "<div>\n",
              "<style scoped>\n",
              "    .dataframe tbody tr th:only-of-type {\n",
              "        vertical-align: middle;\n",
              "    }\n",
              "\n",
              "    .dataframe tbody tr th {\n",
              "        vertical-align: top;\n",
              "    }\n",
              "\n",
              "    .dataframe thead th {\n",
              "        text-align: right;\n",
              "    }\n",
              "</style>\n",
              "<table border=\"1\" class=\"dataframe\">\n",
              "  <thead>\n",
              "    <tr style=\"text-align: right;\">\n",
              "      <th></th>\n",
              "      <th>RH_bookings</th>\n",
              "      <th>Ch_bookings</th>\n",
              "    </tr>\n",
              "    <tr>\n",
              "      <th>arrival_date_month</th>\n",
              "      <th></th>\n",
              "      <th></th>\n",
              "    </tr>\n",
              "  </thead>\n",
              "  <tbody>\n",
              "    <tr>\n",
              "      <th>January</th>\n",
              "      <td>2193</td>\n",
              "      <td>3736</td>\n",
              "    </tr>\n",
              "    <tr>\n",
              "      <th>February</th>\n",
              "      <td>3103</td>\n",
              "      <td>4965</td>\n",
              "    </tr>\n",
              "    <tr>\n",
              "      <th>March</th>\n",
              "      <td>3336</td>\n",
              "      <td>6458</td>\n",
              "    </tr>\n",
              "    <tr>\n",
              "      <th>April</th>\n",
              "      <td>3609</td>\n",
              "      <td>7480</td>\n",
              "    </tr>\n",
              "    <tr>\n",
              "      <th>May</th>\n",
              "      <td>3559</td>\n",
              "      <td>8232</td>\n",
              "    </tr>\n",
              "    <tr>\n",
              "      <th>June</th>\n",
              "      <td>3045</td>\n",
              "      <td>7894</td>\n",
              "    </tr>\n",
              "    <tr>\n",
              "      <th>July</th>\n",
              "      <td>4573</td>\n",
              "      <td>8088</td>\n",
              "    </tr>\n",
              "    <tr>\n",
              "      <th>August</th>\n",
              "      <td>4894</td>\n",
              "      <td>8983</td>\n",
              "    </tr>\n",
              "    <tr>\n",
              "      <th>September</th>\n",
              "      <td>3108</td>\n",
              "      <td>7400</td>\n",
              "    </tr>\n",
              "    <tr>\n",
              "      <th>October</th>\n",
              "      <td>3555</td>\n",
              "      <td>7605</td>\n",
              "    </tr>\n",
              "    <tr>\n",
              "      <th>November</th>\n",
              "      <td>2437</td>\n",
              "      <td>4357</td>\n",
              "    </tr>\n",
              "    <tr>\n",
              "      <th>December</th>\n",
              "      <td>2648</td>\n",
              "      <td>4132</td>\n",
              "    </tr>\n",
              "  </tbody>\n",
              "</table>\n",
              "</div>"
            ],
            "text/plain": [
              "                    RH_bookings  Ch_bookings\n",
              "arrival_date_month                          \n",
              "January                    2193         3736\n",
              "February                   3103         4965\n",
              "March                      3336         6458\n",
              "April                      3609         7480\n",
              "May                        3559         8232\n",
              "June                       3045         7894\n",
              "July                       4573         8088\n",
              "August                     4894         8983\n",
              "September                  3108         7400\n",
              "October                    3555         7605\n",
              "November                   2437         4357\n",
              "December                   2648         4132"
            ]
          },
          "metadata": {
            "tags": []
          },
          "execution_count": 49
        }
      ]
    },
    {
      "cell_type": "markdown",
      "metadata": {
        "id": "Dx5WSwwgbbqx",
        "colab_type": "text"
      },
      "source": [
        "Handling Null values"
      ]
    },
    {
      "cell_type": "code",
      "metadata": {
        "id": "dhxCt-cKH47s",
        "colab_type": "code",
        "colab": {}
      },
      "source": [
        "# for numerical values, we replace the null values with a constant\n",
        "from sklearn.impute import SimpleImputer\n",
        "imputer= SimpleImputer(strategy='constant',fill_value=0.0)\n",
        "imputer.fit(x[:,[1,3,4,5,6,7,10,11,12,13,15,17,18,19]])\n",
        "x[:,[1,3,4,5,6,7,10,11,12,13,15,17,18,19]]=imputer.transform(x[:,[1,3,4,5,6,7,10,11,12,13,15,17,18,19]])"
      ],
      "execution_count": null,
      "outputs": []
    },
    {
      "cell_type": "code",
      "metadata": {
        "id": "WXTk4lgtLnzy",
        "colab_type": "code",
        "colab": {}
      },
      "source": [
        "#for categorical values, replace null value with \"Unknown\"\n",
        "impute= SimpleImputer(strategy='constant',fill_value='Unknown')\n",
        "impute.fit(x[:,[0,2,8,9,14,16]])\n",
        "x[:,[0,2,8,9,14,16]]=impute.transform(x[:,[0,2,8,9,14,16]])"
      ],
      "execution_count": null,
      "outputs": []
    },
    {
      "cell_type": "code",
      "metadata": {
        "id": "ACQLv2E7IFgQ",
        "colab_type": "code",
        "colab": {}
      },
      "source": [
        "#If the alloted room is not same as the requested room, then 1 else 0\n",
        "change=[]\n",
        "for i in z.index:\n",
        "  if(z.iloc[i][0] != z.iloc[i][1]):\n",
        "    change.append(1)\n",
        "  else :\n",
        "    change.append(0)"
      ],
      "execution_count": null,
      "outputs": []
    },
    {
      "cell_type": "code",
      "metadata": {
        "id": "pTl5W_2NIRHI",
        "colab_type": "code",
        "colab": {}
      },
      "source": [
        "\n",
        "'''since change is a list,converting it into an ndArray so as to append it to the feature variable x\n",
        "reshaping it to convert the vector change to 2D array change\n",
        "appending this new column to the feature variable x'''\n",
        "change=np.array(change)\n",
        "change=np.reshape(change,(119390,1))  \n",
        "x=np.append(arr=x,values=change,axis=1)    "
      ],
      "execution_count": null,
      "outputs": []
    },
    {
      "cell_type": "markdown",
      "metadata": {
        "id": "--3mCpd3b87-",
        "colab_type": "text"
      },
      "source": [
        "Encoding categorical values using Label Encoder and OneHotEncoder"
      ]
    },
    {
      "cell_type": "code",
      "metadata": {
        "id": "y7VkQhoiMxND",
        "colab_type": "code",
        "colab": {}
      },
      "source": [
        "from sklearn.preprocessing import LabelEncoder\n",
        "le=LabelEncoder()\n",
        "x[:,0]=le.fit_transform(x[:,0])     #encoding hotel column\n",
        "x[:,2]=le.fit_transform(x[:,2])     #month\n",
        "x[:,14]=le.fit_transform(x[:,14])   #deposit type"
      ],
      "execution_count": null,
      "outputs": []
    },
    {
      "cell_type": "code",
      "metadata": {
        "id": "knX5WrIfbUfJ",
        "colab_type": "code",
        "colab": {}
      },
      "source": [
        "from sklearn.compose import ColumnTransformer\n",
        "from sklearn.preprocessing import OneHotEncoder\n",
        "ct=ColumnTransformer(transformers=[('encoder',OneHotEncoder(handle_unknown='ignore'),[8])],remainder='passthrough')  #encoding market segment\n",
        "x=np.array(ct.fit_transform(x))"
      ],
      "execution_count": null,
      "outputs": []
    },
    {
      "cell_type": "code",
      "metadata": {
        "id": "bQl1XLIERBlO",
        "colab_type": "code",
        "colab": {
          "base_uri": "https://localhost:8080/",
          "height": 67
        },
        "outputId": "ca80b760-9233-4f87-f247-fe509e85e235"
      },
      "source": [
        " #To remove dummy variable trap in market segment\n",
        "x=x[:,1:]      \n",
        "x[2136]    "
      ],
      "execution_count": null,
      "outputs": [
        {
          "output_type": "execute_result",
          "data": {
            "text/plain": [
              "array([0.0, 0.0, 0.0, 1.0, 0.0, 0.0, 0.0, 1, 87, 10, 0, 1, 2, 0.0, 0,\n",
              "       'TA/TO', 0, 0, 0, 0, 1, 0, 'Transient', 36.05, 0, 0, 0, 0],\n",
              "      dtype=object)"
            ]
          },
          "metadata": {
            "tags": []
          },
          "execution_count": 58
        }
      ]
    },
    {
      "cell_type": "code",
      "metadata": {
        "id": "Byhg6dPZRPIU",
        "colab_type": "code",
        "colab": {}
      },
      "source": [
        "ct=ColumnTransformer(transformers=[('encoder',OneHotEncoder(),[15])],remainder='passthrough')  #encoding distribution channel\n",
        "x=np.array(ct.fit_transform(x))"
      ],
      "execution_count": null,
      "outputs": []
    },
    {
      "cell_type": "code",
      "metadata": {
        "id": "DrP_-AT7AU5d",
        "colab_type": "code",
        "colab": {}
      },
      "source": [
        "temp1= x[:,np.arange(0,7)]\n",
        "temp2=x[:,np.arange(8,31)]"
      ],
      "execution_count": null,
      "outputs": []
    },
    {
      "cell_type": "code",
      "metadata": {
        "id": "GzmIcmeHCrPi",
        "colab_type": "code",
        "colab": {}
      },
      "source": [
        "x=np.concatenate((temp1,temp2),axis=1)"
      ],
      "execution_count": null,
      "outputs": []
    },
    {
      "cell_type": "code",
      "metadata": {
        "id": "QXF1vEv8Rs_b",
        "colab_type": "code",
        "colab": {}
      },
      "source": [
        "ct=ColumnTransformer(transformers=[('encoder',OneHotEncoder(),[25])],remainder='passthrough')  #encoding customer type\n",
        "x=np.array(ct.fit_transform(x))"
      ],
      "execution_count": null,
      "outputs": []
    },
    {
      "cell_type": "code",
      "metadata": {
        "id": "luadabOcSWZL",
        "colab_type": "code",
        "colab": {}
      },
      "source": [
        "temp1= x[:,np.arange(0,11)]\n",
        "temp2=x[:,np.arange(12,33)]\n",
        "x=np.concatenate((temp1,temp2),axis=1)"
      ],
      "execution_count": null,
      "outputs": []
    },
    {
      "cell_type": "code",
      "metadata": {
        "id": "COD8CR58oJQ5",
        "colab_type": "code",
        "colab": {}
      },
      "source": [
        "imputer.fit(x[:,20:21])\n",
        "x[:,20:21]=imputer.transform(x[:,20:21])"
      ],
      "execution_count": null,
      "outputs": []
    },
    {
      "cell_type": "code",
      "metadata": {
        "id": "eRbtz11E2uBb",
        "colab_type": "code",
        "colab": {}
      },
      "source": [
        "x=x.clip(0)"
      ],
      "execution_count": null,
      "outputs": []
    },
    {
      "cell_type": "markdown",
      "metadata": {
        "id": "CmLWATNKcIBh",
        "colab_type": "text"
      },
      "source": [
        "Splitting the dataset into train and test sets"
      ]
    },
    {
      "cell_type": "code",
      "metadata": {
        "id": "Pm5TW0pgQksL",
        "colab_type": "code",
        "colab": {
          "base_uri": "https://localhost:8080/",
          "height": 34
        },
        "outputId": "301094b5-285b-4f67-de24-f77ac943c67b"
      },
      "source": [
        "from sklearn.model_selection import train_test_split\n",
        "x_train,x_test,y_train,y_test =train_test_split(x,y,test_size=0.2,random_state=0)\n",
        "x_train.shape"
      ],
      "execution_count": null,
      "outputs": [
        {
          "output_type": "execute_result",
          "data": {
            "text/plain": [
              "(95512, 32)"
            ]
          },
          "metadata": {
            "tags": []
          },
          "execution_count": 85
        }
      ]
    },
    {
      "cell_type": "markdown",
      "metadata": {
        "id": "mXi_qJgNcN0w",
        "colab_type": "text"
      },
      "source": [
        "Feature Selection"
      ]
    },
    {
      "cell_type": "code",
      "metadata": {
        "id": "A04I4rZoRoLH",
        "colab_type": "code",
        "colab": {
          "base_uri": "https://localhost:8080/",
          "height": 399
        },
        "outputId": "7bf9e743-3090-4fd6-e8af-7a6d9ee64233"
      },
      "source": [
        "from sklearn.ensemble import ExtraTreesClassifier\n",
        "import matplotlib.pyplot as plt\n",
        "model = ExtraTreesClassifier()\n",
        "model.fit(temp,y_train)\n",
        "print(model.feature_importances_) #use inbuilt class feature_importances of tree based classifiers\n",
        "#plot graph of feature importances for better visualization\n",
        "feat_importances = pd.Series(model.feature_importances_, index=temp.columns)\n",
        "feat_importances.nlargest(10).plot(kind='barh')\n",
        "plt.show()\n",
        "#lead_time, adr,depo_type,spl requests,month"
      ],
      "execution_count": null,
      "outputs": [
        {
          "output_type": "stream",
          "text": [
            "[2.23598017e-03 8.28314740e-04 1.50031925e-02 1.32993023e-02\n",
            " 1.75259312e-03 8.95557926e-03 1.80947031e-04 1.72444408e-02\n",
            " 5.54099404e-05 6.54309404e-04 2.79038181e-03 1.33443578e-02\n",
            " 2.05225947e-02 8.91993430e-06 1.55605974e-02 1.93326216e-01\n",
            " 6.80478634e-02 3.51810727e-02 6.50363564e-02 2.04857768e-02\n",
            " 9.35485101e-03 1.35937915e-03 4.91355492e-03 3.57720210e-02\n",
            " 2.49249586e-03 2.68810060e-02 1.31735946e-01 4.24340774e-03\n",
            " 1.46642928e-01 2.33589620e-02 7.31795775e-02 4.55516648e-02]\n"
          ],
          "name": "stdout"
        },
        {
          "output_type": "display_data",
          "data": {
            "image/png": "[encoded data removed]",
            "text/plain": [
              "<Figure size 432x288 with 1 Axes>"
            ]
          },
          "metadata": {
            "tags": [],
            "needs_background": "light"
          }
        }
      ]
    },
    {
      "cell_type": "code",
      "metadata": {
        "id": "WedEgNSduf0m",
        "colab_type": "code",
        "colab": {
          "base_uri": "https://localhost:8080/",
          "height": 202
        },
        "outputId": "9c8cd2b0-ff80-44d4-c1e7-d9e747e9fa15"
      },
      "source": [
        "from sklearn.feature_selection import SelectKBest\n",
        "from sklearn.feature_selection import chi2\n",
        "temp=pd.DataFrame(x_train)\n",
        "bestfeatures = SelectKBest(score_func=chi2, k=10)\n",
        "fit = bestfeatures.fit(temp,y_train)\n",
        "dfscores = pd.DataFrame(fit.scores_)\n",
        "dfcolumns = pd.DataFrame(temp.columns)\n",
        "#concat two dataframes for better visualization \n",
        "featureScores = pd.concat([dfcolumns,dfscores],axis=1)\n",
        "featureScores.columns = ['Specs','Score']  #naming the dataframe columns\n",
        "print(featureScores.nlargest(10,'Score').sort_values(by='Score')) \n",
        "#16,17,18  27,30,24,29"
      ],
      "execution_count": null,
      "outputs": [
        {
          "output_type": "stream",
          "text": [
            "    Specs          Score\n",
            "29     29    3502.110506\n",
            "25     25    3890.025854\n",
            "31     31    5055.726899\n",
            "28     28    5149.812982\n",
            "24     24    5230.624751\n",
            "30     30    5951.555888\n",
            "23     23    9409.712466\n",
            "26     26   18834.282214\n",
            "27     27   39686.659189\n",
            "15     15  885837.849872\n"
          ],
          "name": "stdout"
        }
      ]
    },
    {
      "cell_type": "code",
      "metadata": {
        "id": "E0cHfl8VAXqn",
        "colab_type": "code",
        "colab": {
          "base_uri": "https://localhost:8080/",
          "height": 34
        },
        "outputId": "8410a36f-c73c-46e7-cad5-a425409f6cd9"
      },
      "source": [
        "x_train=x_train[:,[15,27,26,23,30,24,28,31,25,29]]\n",
        "x_test=x_test[:,[15,27,26,23,30,24,28,31,25,29]]\n",
        "x_train.shape"
      ],
      "execution_count": null,
      "outputs": [
        {
          "output_type": "execute_result",
          "data": {
            "text/plain": [
              "(95512, 10)"
            ]
          },
          "metadata": {
            "tags": []
          },
          "execution_count": 86
        }
      ]
    },
    {
      "cell_type": "markdown",
      "metadata": {
        "id": "FMjIAGdQBuMt",
        "colab_type": "text"
      },
      "source": [
        "Building different models and evaluating it using  confusion_matrix & K fold cross evaluation"
      ]
    },
    {
      "cell_type": "code",
      "metadata": {
        "id": "0aD7mfchAsK3",
        "colab_type": "code",
        "colab": {
          "base_uri": "https://localhost:8080/",
          "height": 185
        },
        "outputId": "ba72484b-7fec-48d4-c800-7a82a3bcec4b"
      },
      "source": [
        "from sklearn.linear_model import LogisticRegression\n",
        "from sklearn.model_selection import cross_val_score\n",
        "classifier=LogisticRegression(random_state=0)\n",
        "classifier.fit(x_train,y_train)\n",
        "acc=cross_val_score(estimator=classifier,X=x_train,y=y_train,cv=10)\n",
        "acc.mean()\n",
        "#77.64"
      ],
      "execution_count": null,
      "outputs": [
        {
          "output_type": "stream",
          "text": [
            "/usr/local/lib/python3.6/dist-packages/sklearn/linear_model/_logistic.py:940: ConvergenceWarning: lbfgs failed to converge (status=1):\n",
            "STOP: TOTAL NO. of ITERATIONS REACHED LIMIT.\n",
            "\n",
            "Increase the number of iterations (max_iter) or scale the data as shown in:\n",
            "    https://scikit-learn.org/stable/modules/preprocessing.html\n",
            "Please also refer to the documentation for alternative solver options:\n",
            "    https://scikit-learn.org/stable/modules/linear_model.html#logistic-regression\n",
            "  extra_warning_msg=_LOGISTIC_SOLVER_CONVERGENCE_MSG)\n"
          ],
          "name": "stderr"
        },
        {
          "output_type": "execute_result",
          "data": {
            "text/plain": [
              "array([[14346,   588],\n",
              "       [ 4798,  4146]])"
            ]
          },
          "metadata": {
            "tags": []
          },
          "execution_count": 70
        }
      ]
    },
    {
      "cell_type": "code",
      "metadata": {
        "id": "An6zpYvmEsew",
        "colab_type": "code",
        "colab": {
          "base_uri": "https://localhost:8080/",
          "height": 50
        },
        "outputId": "cf5e4a32-00f4-4bf3-d78f-4464edd70242"
      },
      "source": [
        "from sklearn.svm import SVC\n",
        "from sklearn.metrics import confusion_matrix\n",
        "classifier =SVC(kernel='rbf',random_state=0)\n",
        "classifier.fit(x_train,y_train)\n",
        "y_pred=classifier.predict(x_test)\n",
        "cm = confusion_matrix(y_test,y_pred)\n",
        "cm\n",
        "#68.8"
      ],
      "execution_count": null,
      "outputs": [
        {
          "output_type": "execute_result",
          "data": {
            "text/plain": [
              "array([[14080,   854],\n",
              "       [ 6591,  2353]])"
            ]
          },
          "metadata": {
            "tags": []
          },
          "execution_count": 21
        }
      ]
    },
    {
      "cell_type": "code",
      "metadata": {
        "id": "Yu65JYFyGSCU",
        "colab_type": "code",
        "colab": {
          "base_uri": "https://localhost:8080/",
          "height": 34
        },
        "outputId": "fcf29e6f-974a-40bd-d968-049b91a9f18a"
      },
      "source": [
        "from sklearn.ensemble import RandomForestClassifier\n",
        "from sklearn.model_selection import cross_val_score\n",
        "rf= RandomForestClassifier(random_state=0,criterion='entropy')\n",
        "rf.fit(x_train,y_train)\n",
        "acc=cross_val_score(estimator=rf,X=x_train,y=y_train,cv=10)\n",
        "acc.mean()\n",
        "#81.4"
      ],
      "execution_count": null,
      "outputs": [
        {
          "output_type": "execute_result",
          "data": {
            "text/plain": [
              "0.8149552728316465"
            ]
          },
          "metadata": {
            "tags": []
          },
          "execution_count": 87
        }
      ]
    },
    {
      "cell_type": "code",
      "metadata": {
        "id": "gstn3KWPZI78",
        "colab_type": "code",
        "colab": {
          "base_uri": "https://localhost:8080/",
          "height": 34
        },
        "outputId": "3266b590-4524-4ae5-a0cc-e32509ab1b93"
      },
      "source": [
        "from sklearn.tree import DecisionTreeClassifier\n",
        "from sklearn.model_selection import cross_val_score\n",
        "classifier= DecisionTreeClassifier(random_state=0)\n",
        "classifier.fit(x_train,y_train)\n",
        "acc=cross_val_score(estimator=classifier,X=x_train,y=y_train,cv=10)\n",
        "acc.mean()\n",
        "#80.21"
      ],
      "execution_count": null,
      "outputs": [
        {
          "output_type": "execute_result",
          "data": {
            "text/plain": [
              "0.8021610074593818"
            ]
          },
          "metadata": {
            "tags": []
          },
          "execution_count": 73
        }
      ]
    },
    {
      "cell_type": "markdown",
      "metadata": {
        "id": "1AFp2oTCHUp0",
        "colab_type": "text"
      },
      "source": [
        "Choosing the optimal hyper parameter values\n"
      ]
    },
    {
      "cell_type": "code",
      "metadata": {
        "id": "wQAjgllwHbb8",
        "colab_type": "code",
        "colab": {
          "base_uri": "https://localhost:8080/",
          "height": 34
        },
        "outputId": "95d3229b-dd1b-41d8-a0ec-d0331c0729aa"
      },
      "source": [
        "from sklearn.model_selection import GridSearchCV\n",
        "parameters =[{'criterion':['gini']},\n",
        "            {'criterion':['entropy']}]\n",
        "gsearch =GridSearchCV(estimator=rf,\n",
        "                      param_grid =parameters,\n",
        "                      scoring= 'accuracy',\n",
        "                      cv=10,\n",
        "                      n_jobs=-1)\n",
        "gsearch =gsearch.fit(x_train,y_train)\n",
        "best_accuracy =gsearch.best_score_\n",
        "best_param = gsearch.best_params_\n",
        "print(best_accuracy,best_param)"
      ],
      "execution_count": null,
      "outputs": [
        {
          "output_type": "stream",
          "text": [
            "0.8175517809969121 {'criterion': 'entropy'}\n"
          ],
          "name": "stdout"
        }
      ]
    }
  ]
}